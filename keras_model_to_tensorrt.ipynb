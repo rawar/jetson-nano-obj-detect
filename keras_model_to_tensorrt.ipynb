{
  "nbformat": 4,
  "nbformat_minor": 0,
  "metadata": {
    "colab": {
      "name": "keras-model-to-tensorrt.ipynb",
      "provenance": [],
      "collapsed_sections": [],
      "include_colab_link": true
    },
    "kernelspec": {
      "name": "python3",
      "display_name": "Python 3"
    },
    "accelerator": "GPU"
  },
  "cells": [
    {
      "cell_type": "markdown",
      "metadata": {
        "id": "view-in-github",
        "colab_type": "text"
      },
      "source": [
        "<a href=\"https://colab.research.google.com/github/rawar/jetson-nano-obj-detect/blob/master/keras_model_to_tensorrt.ipynb\" target=\"_parent\"><img src=\"https://colab.research.google.com/assets/colab-badge.svg\" alt=\"Open In Colab\"/></a>"
      ]
    },
    {
      "cell_type": "markdown",
      "metadata": {
        "id": "s2003UG0PZd6",
        "colab_type": "text"
      },
      "source": [
        "# Simple Keras model converter for NVIDIAs Jetson platform\n",
        "\n",
        "The following code snipped convertes an existing Keras model (see more at https://modelzoo.co/framework/keras) to NVIDIAs [TensorRT](https://developer.nvidia.com/tensorrt) model format.\n"
      ]
    },
    {
      "cell_type": "markdown",
      "metadata": {
        "id": "QBjp5Wr2RKv1",
        "colab_type": "text"
      },
      "source": [
        "## Import required libraries"
      ]
    },
    {
      "cell_type": "code",
      "metadata": {
        "id": "AG4f2JuzEe4e",
        "colab_type": "code",
        "colab": {}
      },
      "source": [
        "import os\n",
        "from google.colab import files\n",
        "import tensorflow as tf\n",
        "from tensorflow.keras.applications.mobilenet_v2 import MobileNetV2 as mn\n",
        "from tensorflow.python.framework import graph_io\n",
        "from tensorflow.keras.models import load_model\n",
        "import tensorflow.contrib.tensorrt as trt"
      ],
      "execution_count": 0,
      "outputs": []
    },
    {
      "cell_type": "markdown",
      "metadata": {
        "id": "7bDtz-_DRCcO",
        "colab_type": "text"
      },
      "source": [
        "## Define local model folder and name "
      ]
    },
    {
      "cell_type": "code",
      "metadata": {
        "id": "Bo4M8nSlMCNv",
        "colab_type": "code",
        "colab": {}
      },
      "source": [
        "save_pb_dir = './models/'\n",
        "keras_model_filename = save_pb_dir + 'mobilenetv2-model.h5'\n",
        "trt_model_filename = 'mobilenetv2-model-trt.pb'"
      ],
      "execution_count": 0,
      "outputs": []
    },
    {
      "cell_type": "markdown",
      "metadata": {
        "id": "cUJUg93kYKTP",
        "colab_type": "text"
      },
      "source": [
        "## Save Keras model locally"
      ]
    },
    {
      "cell_type": "code",
      "metadata": {
        "id": "uSU2OjUeE2C3",
        "colab_type": "code",
        "colab": {
          "base_uri": "https://localhost:8080/",
          "height": 88
        },
        "outputId": "6f1ee391-a9ad-48eb-e89f-2ca8498c1c00"
      },
      "source": [
        "keras_model = mn(weights='imagenet')"
      ],
      "execution_count": 5,
      "outputs": [
        {
          "output_type": "stream",
          "text": [
            "WARNING:tensorflow:From /usr/local/lib/python3.6/dist-packages/tensorflow/python/ops/init_ops.py:1251: calling VarianceScaling.__init__ (from tensorflow.python.ops.init_ops) with dtype is deprecated and will be removed in a future version.\n",
            "Instructions for updating:\n",
            "Call initializer instance with the dtype argument instead of passing it to the constructor\n"
          ],
          "name": "stdout"
        }
      ]
    },
    {
      "cell_type": "code",
      "metadata": {
        "id": "oEXwAMvvGQSG",
        "colab_type": "code",
        "colab": {}
      },
      "source": [
        "os.makedirs(save_pb_dir, exist_ok=True)"
      ],
      "execution_count": 0,
      "outputs": []
    },
    {
      "cell_type": "code",
      "metadata": {
        "id": "WTUk6Z7IGsfK",
        "colab_type": "code",
        "colab": {}
      },
      "source": [
        "keras_model.save(keras_model_filename)"
      ],
      "execution_count": 0,
      "outputs": []
    },
    {
      "cell_type": "code",
      "metadata": {
        "id": "xdGgkc1fXdOB",
        "colab_type": "code",
        "colab": {}
      },
      "source": [
        "tf.keras.backend.clear_session()"
      ],
      "execution_count": 0,
      "outputs": []
    },
    {
      "cell_type": "markdown",
      "metadata": {
        "id": "1zIZ7hEkYSM0",
        "colab_type": "text"
      },
      "source": [
        "## Load model to Tensorflow"
      ]
    },
    {
      "cell_type": "code",
      "metadata": {
        "id": "uSWK1JYvLxPK",
        "colab_type": "code",
        "colab": {}
      },
      "source": [
        "def freeze_graph(graph, session, output, save_pb_dir='.', save_pb_name='frozen_model.pb', save_pb_as_text=False):\n",
        "    with graph.as_default():\n",
        "        graphdef_inf = tf.graph_util.remove_training_nodes(graph.as_graph_def())\n",
        "        graphdef_frozen = tf.graph_util.convert_variables_to_constants(session, graphdef_inf, output)\n",
        "        graph_io.write_graph(graphdef_frozen, save_pb_dir, save_pb_name, as_text=save_pb_as_text)\n",
        "        return graphdef_frozen"
      ],
      "execution_count": 0,
      "outputs": []
    },
    {
      "cell_type": "code",
      "metadata": {
        "id": "LtpdnvkWL71s",
        "colab_type": "code",
        "colab": {
          "base_uri": "https://localhost:8080/",
          "height": 207
        },
        "outputId": "2453798f-c536-49ed-ff26-e381785c9974"
      },
      "source": [
        "tf.keras.backend.set_learning_phase(0) \n",
        "keras_model = load_model(keras_model_filename)"
      ],
      "execution_count": 11,
      "outputs": [
        {
          "output_type": "stream",
          "text": [
            "WARNING:tensorflow:From /usr/local/lib/python3.6/dist-packages/tensorflow/python/ops/init_ops.py:97: calling GlorotUniform.__init__ (from tensorflow.python.ops.init_ops) with dtype is deprecated and will be removed in a future version.\n",
            "Instructions for updating:\n",
            "Call initializer instance with the dtype argument instead of passing it to the constructor\n",
            "WARNING:tensorflow:From /usr/local/lib/python3.6/dist-packages/tensorflow/python/ops/init_ops.py:97: calling Zeros.__init__ (from tensorflow.python.ops.init_ops) with dtype is deprecated and will be removed in a future version.\n",
            "Instructions for updating:\n",
            "Call initializer instance with the dtype argument instead of passing it to the constructor\n",
            "WARNING:tensorflow:From /usr/local/lib/python3.6/dist-packages/tensorflow/python/ops/init_ops.py:97: calling Ones.__init__ (from tensorflow.python.ops.init_ops) with dtype is deprecated and will be removed in a future version.\n",
            "Instructions for updating:\n",
            "Call initializer instance with the dtype argument instead of passing it to the constructor\n",
            "WARNING:tensorflow:No training configuration found in save file: the model was *not* compiled. Compile it manually.\n"
          ],
          "name": "stdout"
        }
      ]
    },
    {
      "cell_type": "code",
      "metadata": {
        "id": "fQVoIhQEMax5",
        "colab_type": "code",
        "colab": {}
      },
      "source": [
        "input_names = [t.op.name for t in keras_model.inputs]\n",
        "output_names = [t.op.name for t in keras_model.outputs]"
      ],
      "execution_count": 0,
      "outputs": []
    },
    {
      "cell_type": "code",
      "metadata": {
        "id": "4gbz57z5MehL",
        "colab_type": "code",
        "colab": {
          "base_uri": "https://localhost:8080/",
          "height": 34
        },
        "outputId": "3286abca-ab96-47bc-bb27-d4fc43798fa4"
      },
      "source": [
        "print(input_names, output_names)"
      ],
      "execution_count": 13,
      "outputs": [
        {
          "output_type": "stream",
          "text": [
            "['input_1'] ['Logits/Softmax']\n"
          ],
          "name": "stdout"
        }
      ]
    },
    {
      "cell_type": "markdown",
      "metadata": {
        "id": "v9gNj0x1YdgF",
        "colab_type": "text"
      },
      "source": [
        "## Freeze model graph"
      ]
    },
    {
      "cell_type": "code",
      "metadata": {
        "id": "1s1uPy1zMjpU",
        "colab_type": "code",
        "colab": {}
      },
      "source": [
        "session = tf.keras.backend.get_session()"
      ],
      "execution_count": 0,
      "outputs": []
    },
    {
      "cell_type": "code",
      "metadata": {
        "id": "YU6ZJfMEV0Pa",
        "colab_type": "code",
        "colab": {
          "base_uri": "https://localhost:8080/",
          "height": 224
        },
        "outputId": "63418dfe-9768-4642-810c-05c735e58175"
      },
      "source": [
        "frozen_graph = freeze_graph(\n",
        "    session.graph, \n",
        "    session, \n",
        "    [out.op.name for out in keras_model.outputs], \n",
        "    save_pb_dir=save_pb_dir\n",
        ")"
      ],
      "execution_count": 15,
      "outputs": [
        {
          "output_type": "stream",
          "text": [
            "WARNING:tensorflow:From <ipython-input-10-c5a87050bf8e>:3: remove_training_nodes (from tensorflow.python.framework.graph_util_impl) is deprecated and will be removed in a future version.\n",
            "Instructions for updating:\n",
            "Use `tf.compat.v1.graph_util.remove_training_nodes`\n",
            "WARNING:tensorflow:From <ipython-input-10-c5a87050bf8e>:4: convert_variables_to_constants (from tensorflow.python.framework.graph_util_impl) is deprecated and will be removed in a future version.\n",
            "Instructions for updating:\n",
            "Use `tf.compat.v1.graph_util.convert_variables_to_constants`\n",
            "WARNING:tensorflow:From /usr/local/lib/python3.6/dist-packages/tensorflow/python/framework/graph_util_impl.py:270: extract_sub_graph (from tensorflow.python.framework.graph_util_impl) is deprecated and will be removed in a future version.\n",
            "Instructions for updating:\n",
            "Use `tf.compat.v1.graph_util.extract_sub_graph`\n",
            "INFO:tensorflow:Froze 262 variables.\n",
            "INFO:tensorflow:Converted 262 variables to const ops.\n"
          ],
          "name": "stdout"
        }
      ]
    },
    {
      "cell_type": "markdown",
      "metadata": {
        "id": "fNT05aOHYjA8",
        "colab_type": "text"
      },
      "source": [
        "## Convert to TensorRT"
      ]
    },
    {
      "cell_type": "code",
      "metadata": {
        "id": "CqImYSPuOi4W",
        "colab_type": "code",
        "colab": {
          "base_uri": "https://localhost:8080/",
          "height": 68
        },
        "outputId": "4a653a18-1f07-40fa-f950-01d00d5814bb"
      },
      "source": [
        "trt_graph = trt.create_inference_graph(\n",
        "    input_graph_def=frozen_graph,\n",
        "    outputs=output_names,\n",
        "    max_batch_size=1,\n",
        "    max_workspace_size_bytes=1 << 25,\n",
        "    precision_mode='FP16',\n",
        "    minimum_segment_size=50\n",
        ")"
      ],
      "execution_count": 16,
      "outputs": [
        {
          "output_type": "stream",
          "text": [
            "INFO:tensorflow:Linked TensorRT version: (0, 0, 0)\n",
            "INFO:tensorflow:Loaded TensorRT version: (0, 0, 0)\n",
            "INFO:tensorflow:Running against TensorRT version 0.0.0\n"
          ],
          "name": "stdout"
        }
      ]
    },
    {
      "cell_type": "code",
      "metadata": {
        "id": "CWB9XqO2Osty",
        "colab_type": "code",
        "colab": {
          "base_uri": "https://localhost:8080/",
          "height": 34
        },
        "outputId": "f6c03710-f449-49c9-cf2e-049419ebd4f1"
      },
      "source": [
        "graph_io.write_graph(trt_graph, save_pb_dir, trt_model_filename, as_text=False)"
      ],
      "execution_count": 17,
      "outputs": [
        {
          "output_type": "execute_result",
          "data": {
            "text/plain": [
              "'./models/mobilenetv2-mode.pb'"
            ]
          },
          "metadata": {
            "tags": []
          },
          "execution_count": 17
        }
      ]
    },
    {
      "cell_type": "markdown",
      "metadata": {
        "id": "l7C4V7zTZpB9",
        "colab_type": "text"
      },
      "source": [
        "## Download TensorRT model"
      ]
    },
    {
      "cell_type": "code",
      "metadata": {
        "id": "0GLXnZaaajw7",
        "colab_type": "code",
        "colab": {
          "base_uri": "https://localhost:8080/",
          "height": 119
        },
        "outputId": "176f0057-9cbf-48ab-cce6-7ee681c37bbd"
      },
      "source": [
        "!ls -lah ./models"
      ],
      "execution_count": 19,
      "outputs": [
        {
          "output_type": "stream",
          "text": [
            "total 42M\n",
            "drwxr-xr-x 2 root root 4.0K Sep 29 09:46 .\n",
            "drwxr-xr-x 1 root root 4.0K Sep 29 09:45 ..\n",
            "-rw-r--r-- 1 root root  14M Sep 29 09:46 frozen_model.pb\n",
            "-rw-r--r-- 1 root root  14M Sep 29 09:45 mobilenetv2-model.h5\n",
            "-rw-r--r-- 1 root root  14M Sep 29 09:46 mobilenetv2-mode.pb\n"
          ],
          "name": "stdout"
        }
      ]
    },
    {
      "cell_type": "code",
      "metadata": {
        "id": "2IeBpeuKZuVw",
        "colab_type": "code",
        "colab": {
          "base_uri": "https://localhost:8080/",
          "height": 34
        },
        "outputId": "79d4e52e-0a92-494d-adc9-56bde580e401"
      },
      "source": [
        "print(save_pb_dir+trt_model_filename)\n",
        "files.download(save_pb_dir+trt_model_filename) "
      ],
      "execution_count": 20,
      "outputs": [
        {
          "output_type": "stream",
          "text": [
            "./models/mobilenetv2-mode.pb\n"
          ],
          "name": "stdout"
        }
      ]
    }
  ]
}