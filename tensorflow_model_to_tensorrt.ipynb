{
  "nbformat": 4,
  "nbformat_minor": 0,
  "metadata": {
    "colab": {
      "name": "tensorflow-model-to-tensorrt.ipynb",
      "provenance": [],
      "include_colab_link": true
    },
    "kernelspec": {
      "name": "python3",
      "display_name": "Python 3"
    }
  },
  "cells": [
    {
      "cell_type": "markdown",
      "metadata": {
        "id": "view-in-github",
        "colab_type": "text"
      },
      "source": [
        "<a href=\"https://colab.research.google.com/github/rawar/jetson-nano-obj-detect/blob/master/tensorflow_model_to_tensorrt.ipynb\" target=\"_parent\"><img src=\"https://colab.research.google.com/assets/colab-badge.svg\" alt=\"Open In Colab\"/></a>"
      ]
    },
    {
      "cell_type": "code",
      "metadata": {
        "id": "tnEJqL-qAx22",
        "colab_type": "code",
        "colab": {}
      },
      "source": [
        "import os\n",
        "from google.colab import files\n",
        "import tensorflow as tf\n",
        "from tensorflow.python.framework import graph_io\n",
        "from tensorflow.keras.models import load_model\n",
        "from tensorflow.python.compiler.tensorrt import trt_convert as trt"
      ],
      "execution_count": 0,
      "outputs": []
    },
    {
      "cell_type": "code",
      "metadata": {
        "id": "E_dBir3bBJqa",
        "colab_type": "code",
        "outputId": "64b6e79d-ae87-4fcc-ba3d-97c408780efc",
        "colab": {
          "base_uri": "https://localhost:8080/",
          "height": 204
        }
      },
      "source": [
        "!wget http://download.tensorflow.org/models/object_detection/ssdlite_mobilenet_v2_coco_2018_05_09.tar.gz"
      ],
      "execution_count": 2,
      "outputs": [
        {
          "output_type": "stream",
          "text": [
            "--2019-10-05 13:56:40--  http://download.tensorflow.org/models/object_detection/ssdlite_mobilenet_v2_coco_2018_05_09.tar.gz\n",
            "Resolving download.tensorflow.org (download.tensorflow.org)... 74.125.141.128, 2607:f8b0:400c:c06::80\n",
            "Connecting to download.tensorflow.org (download.tensorflow.org)|74.125.141.128|:80... connected.\n",
            "HTTP request sent, awaiting response... 200 OK\n",
            "Length: 51025348 (49M) [application/x-tar]\n",
            "Saving to: ‘ssdlite_mobilenet_v2_coco_2018_05_09.tar.gz’\n",
            "\n",
            "\r          ssdlite_m   0%[                    ]       0  --.-KB/s               \r         ssdlite_mo  49%[========>           ]  24.01M  92.3MB/s               \r        ssdlite_mob  84%[===============>    ]  41.36M  89.9MB/s               \rssdlite_mobilenet_v 100%[===================>]  48.66M   102MB/s    in 0.5s    \n",
            "\n",
            "2019-10-05 13:56:40 (102 MB/s) - ‘ssdlite_mobilenet_v2_coco_2018_05_09.tar.gz’ saved [51025348/51025348]\n",
            "\n"
          ],
          "name": "stdout"
        }
      ]
    },
    {
      "cell_type": "code",
      "metadata": {
        "id": "bwYjHYVPBP4U",
        "colab_type": "code",
        "outputId": "51fa527f-b76a-4aa1-f9cd-29717438cb5c",
        "colab": {
          "base_uri": "https://localhost:8080/",
          "height": 187
        }
      },
      "source": [
        "!tar xvzf ssdlite_mobilenet_v2_coco_2018_05_09.tar.gz"
      ],
      "execution_count": 3,
      "outputs": [
        {
          "output_type": "stream",
          "text": [
            "ssdlite_mobilenet_v2_coco_2018_05_09/checkpoint\n",
            "ssdlite_mobilenet_v2_coco_2018_05_09/model.ckpt.data-00000-of-00001\n",
            "ssdlite_mobilenet_v2_coco_2018_05_09/model.ckpt.meta\n",
            "ssdlite_mobilenet_v2_coco_2018_05_09/model.ckpt.index\n",
            "ssdlite_mobilenet_v2_coco_2018_05_09/saved_model/saved_model.pb\n",
            "ssdlite_mobilenet_v2_coco_2018_05_09/pipeline.config\n",
            "ssdlite_mobilenet_v2_coco_2018_05_09/frozen_inference_graph.pb\n",
            "ssdlite_mobilenet_v2_coco_2018_05_09/\n",
            "ssdlite_mobilenet_v2_coco_2018_05_09/saved_model/variables/\n",
            "ssdlite_mobilenet_v2_coco_2018_05_09/saved_model/\n"
          ],
          "name": "stdout"
        }
      ]
    },
    {
      "cell_type": "code",
      "metadata": {
        "id": "CaREYtMvA_au",
        "colab_type": "code",
        "colab": {}
      },
      "source": [
        "saved_pb_dir = './ssdlite_mobilenet_v2_coco_2018_05_09/saved_model'\n",
        "trt_model_dir = './ssdlite_mobilenet_v2_coco_2018_05_09-trt'"
      ],
      "execution_count": 0,
      "outputs": []
    },
    {
      "cell_type": "code",
      "metadata": {
        "id": "iyKJWycbFEnC",
        "colab_type": "code",
        "outputId": "534502c9-b411-4acf-a827-79494ca25093",
        "colab": {
          "base_uri": "https://localhost:8080/",
          "height": 187
        }
      },
      "source": [
        "!ls -lah ssdlite_mobilenet_v2_coco_2018_05_09/"
      ],
      "execution_count": 5,
      "outputs": [
        {
          "output_type": "stream",
          "text": [
            "total 40M\n",
            "drwxr-x--- 3 345018 89939 4.0K May 10  2018 .\n",
            "drwxr-xr-x 1 root   root  4.0K Oct  5 13:56 ..\n",
            "-rw-r----- 1 345018 89939   77 May 10  2018 checkpoint\n",
            "-rw-r----- 1 345018 89939  19M May 10  2018 frozen_inference_graph.pb\n",
            "-rw-r----- 1 345018 89939  18M May 10  2018 model.ckpt.data-00000-of-00001\n",
            "-rw-r----- 1 345018 89939  18K May 10  2018 model.ckpt.index\n",
            "-rw-r----- 1 345018 89939 3.5M May 10  2018 model.ckpt.meta\n",
            "-rw-r----- 1 345018 89939 4.2K May 10  2018 pipeline.config\n",
            "drwxr-x--- 3 345018 89939 4.0K May 10  2018 saved_model\n"
          ],
          "name": "stdout"
        }
      ]
    },
    {
      "cell_type": "code",
      "metadata": {
        "id": "Wj-gcY5gE0tA",
        "colab_type": "code",
        "outputId": "58cd0bbb-e97e-4e1f-b3f2-81a94718317f",
        "colab": {
          "base_uri": "https://localhost:8080/",
          "height": 68
        }
      },
      "source": [
        "converter = trt.TrtGraphConverter(input_saved_model_dir=saved_pb_dir)"
      ],
      "execution_count": 6,
      "outputs": [
        {
          "output_type": "stream",
          "text": [
            "INFO:tensorflow:Linked TensorRT version: (0, 0, 0)\n",
            "INFO:tensorflow:Loaded TensorRT version: (0, 0, 0)\n",
            "INFO:tensorflow:Running against TensorRT version 0.0.0\n"
          ],
          "name": "stdout"
        }
      ]
    },
    {
      "cell_type": "code",
      "metadata": {
        "id": "N6DGbIZuGnZ_",
        "colab_type": "code",
        "colab": {}
      },
      "source": [
        "os.makedirs(trt_model_dir, exist_ok=True)"
      ],
      "execution_count": 0,
      "outputs": []
    },
    {
      "cell_type": "code",
      "metadata": {
        "id": "uqe2IsKnFMAn",
        "colab_type": "code",
        "outputId": "41373d9d-8599-4f60-bf23-6aca67aa2dfc",
        "colab": {
          "base_uri": "https://localhost:8080/",
          "height": 309
        }
      },
      "source": [
        "converter.convert()\n",
        "converter.save(trt_model_dir)"
      ],
      "execution_count": 8,
      "outputs": [
        {
          "output_type": "stream",
          "text": [
            "WARNING:tensorflow:From /usr/local/lib/python3.6/dist-packages/tensorflow/python/compiler/tensorrt/trt_convert.py:245: load (from tensorflow.python.saved_model.loader_impl) is deprecated and will be removed in a future version.\n",
            "Instructions for updating:\n",
            "This function will only be available through the v1 compatibility library as tf.compat.v1.saved_model.loader.load or tf.compat.v1.saved_model.load. There will be a new function for importing SavedModels in Tensorflow 2.0.\n",
            "INFO:tensorflow:Saver not created because there are no variables in the graph to restore\n",
            "INFO:tensorflow:The specified SavedModel has no variables; no checkpoints were restored.\n",
            "WARNING:tensorflow:From /usr/local/lib/python3.6/dist-packages/tensorflow/python/compiler/tensorrt/trt_convert.py:268: convert_variables_to_constants (from tensorflow.python.framework.graph_util_impl) is deprecated and will be removed in a future version.\n",
            "Instructions for updating:\n",
            "Use `tf.compat.v1.graph_util.convert_variables_to_constants`\n",
            "WARNING:tensorflow:From /usr/local/lib/python3.6/dist-packages/tensorflow/python/framework/graph_util_impl.py:270: extract_sub_graph (from tensorflow.python.framework.graph_util_impl) is deprecated and will be removed in a future version.\n",
            "Instructions for updating:\n",
            "Use `tf.compat.v1.graph_util.extract_sub_graph`\n",
            "INFO:tensorflow:Froze 0 variables.\n",
            "INFO:tensorflow:Converted 0 variables to const ops.\n",
            "INFO:tensorflow:No assets to save.\n",
            "INFO:tensorflow:No assets to write.\n",
            "INFO:tensorflow:SavedModel written to: ./ssdlite_mobilenet_v2_coco_2018_05_09-trt/saved_model.pb\n"
          ],
          "name": "stdout"
        }
      ]
    },
    {
      "cell_type": "code",
      "metadata": {
        "id": "9t93FEShOOlZ",
        "colab_type": "code",
        "colab": {
          "base_uri": "https://localhost:8080/",
          "height": 102
        },
        "outputId": "201c00b1-7e41-460f-a53f-6a2947b0f772"
      },
      "source": [
        "!ls -trla {trt_model_dir}"
      ],
      "execution_count": 13,
      "outputs": [
        {
          "output_type": "stream",
          "text": [
            "total 19660\n",
            "drwxr-xr-x 1 root root     4096 Oct  5 13:57 ..\n",
            "drwxr-xr-x 2 root root     4096 Oct  5 13:57 variables\n",
            "drwxr-xr-x 3 root root     4096 Oct  5 13:57 .\n",
            "-rw-r--r-- 1 root root 20118947 Oct  5 13:57 saved_model.pb\n"
          ],
          "name": "stdout"
        }
      ]
    },
    {
      "cell_type": "code",
      "metadata": {
        "id": "i9EqxRR5IdoR",
        "colab_type": "code",
        "colab": {}
      },
      "source": [
        "files.download(trt_model_dir+\"/saved_model.pb\") "
      ],
      "execution_count": 0,
      "outputs": []
    }
  ]
}